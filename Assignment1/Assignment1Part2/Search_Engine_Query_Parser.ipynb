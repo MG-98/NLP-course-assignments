{
  "nbformat": 4,
  "nbformat_minor": 0,
  "metadata": {
    "colab": {
      "name": "Search Engine Query Parser.ipynb",
      "provenance": [],
      "collapsed_sections": []
    },
    "kernelspec": {
      "name": "python3",
      "display_name": "Python 3"
    },
    "language_info": {
      "name": "python"
    }
  },
  "cells": [
    {
      "cell_type": "code",
      "metadata": {
        "colab": {
          "base_uri": "https://localhost:8080/"
        },
        "id": "sXu7w-rscqmn",
        "outputId": "a8f60b93-67e9-4496-8aff-5e61366f34fa"
      },
      "source": [
        "import nltk \n",
        "nltk.download('punkt')\n",
        "nltk.download('averaged_perceptron_tagger')\n"
      ],
      "execution_count": null,
      "outputs": [
        {
          "output_type": "stream",
          "text": [
            "[nltk_data] Downloading package punkt to /root/nltk_data...\n",
            "[nltk_data]   Package punkt is already up-to-date!\n",
            "[nltk_data] Downloading package averaged_perceptron_tagger to\n",
            "[nltk_data]     /root/nltk_data...\n",
            "[nltk_data]   Package averaged_perceptron_tagger is already up-to-\n",
            "[nltk_data]       date!\n"
          ],
          "name": "stdout"
        },
        {
          "output_type": "execute_result",
          "data": {
            "text/plain": [
              "True"
            ]
          },
          "metadata": {
            "tags": []
          },
          "execution_count": 33
        }
      ]
    },
    {
      "cell_type": "code",
      "metadata": {
        "colab": {
          "base_uri": "https://localhost:8080/"
        },
        "id": "CNpf32UDdiKj",
        "outputId": "e5cbf996-ec4a-4aee-8822-a45addc686fb"
      },
      "source": [
        "from nltk.stem.porter import PorterStemmer\n",
        "nltk.download('stopwords')\n",
        "from nltk.corpus import stopwords\n",
        "\n",
        "stemmer = PorterStemmer()"
      ],
      "execution_count": null,
      "outputs": [
        {
          "output_type": "stream",
          "text": [
            "[nltk_data] Downloading package stopwords to /root/nltk_data...\n",
            "[nltk_data]   Package stopwords is already up-to-date!\n"
          ],
          "name": "stdout"
        }
      ]
    },
    {
      "cell_type": "code",
      "metadata": {
        "id": "oRyn89cHfLX-"
      },
      "source": [
        "import spacy\n",
        "sp = spacy.load('en_core_web_sm')\n",
        "import string\n"
      ],
      "execution_count": null,
      "outputs": []
    },
    {
      "cell_type": "code",
      "metadata": {
        "id": "luwLkvwlchGs"
      },
      "source": [
        "def parse_query(query):\n",
        "  lower_tokens = query.lower().split(' ')\n",
        "  stemmed_tokens = [stemmer.stem(token) for token in lower_tokens]\n",
        "  stemmed_tokens = [token for token in stemmed_tokens if token not in stopwords.words('english')]\n",
        "  doc = sp(query)\n",
        "  lemm_tokens = [ token.lemma_ for token in doc]\n",
        "  lemm_tokens = [token for token in lemm_tokens if token not in stopwords.words('english')]\n",
        "\n",
        "  return set(lemm_tokens+stemmed_tokens)\n",
        "\n",
        "\n",
        "  "
      ],
      "execution_count": null,
      "outputs": []
    },
    {
      "cell_type": "code",
      "metadata": {
        "colab": {
          "base_uri": "https://localhost:8080/"
        },
        "id": "K4Ke9GRqer99",
        "outputId": "02476c31-b05b-484b-edea-5756592666e7"
      },
      "source": [
        "def query_doc_map(query):\n",
        "  with open('/content/index.pkl', 'rb') as f:\n",
        "    data = pickle.load(f)\n",
        "  important_tokens = parse_query(query)\n",
        "  docs = []\n",
        "  for token in important_tokens:\n",
        "    try :\n",
        "      for i in data[token]:\n",
        "        docs.append(i[0])\n",
        "    except:\n",
        "      pass\n",
        "  return set(docs)\n",
        "\n",
        "x= query_doc_map(\" Who were famous women?\")\n",
        "\n",
        "print(x)"
      ],
      "execution_count": null,
      "outputs": [
        {
          "output_type": "stream",
          "text": [
            "{9, 4, 1, 7}\n"
          ],
          "name": "stdout"
        }
      ]
    },
    {
      "cell_type": "code",
      "metadata": {
        "id": "o5kdsJKNIkqw"
      },
      "source": [
        "Queries = [\"Who were famous women?\",\n",
        "\"Poems and poets\", \"What is the scientific work of islamic golden age? \" , \"Ancient Spain\" ,\n",
        "\"A Famous Muslim Engineer\" , \"A woman with a kingdom\" , \"How were the prayer times determined?\" , \"A theologian\"]"
      ],
      "execution_count": null,
      "outputs": []
    },
    {
      "cell_type": "code",
      "metadata": {
        "id": "S3l0aKWrJA-r"
      },
      "source": [
        "query_doc_dict = {}\n",
        "for Query in Queries:\n",
        "  docs_set = query_doc_map(Query)\n",
        "  query_doc_dict[Query] = docs_set"
      ],
      "execution_count": null,
      "outputs": []
    },
    {
      "cell_type": "code",
      "metadata": {
        "colab": {
          "base_uri": "https://localhost:8080/"
        },
        "id": "_4ST4VRCJZR7",
        "outputId": "d34275a6-35ed-4ce9-f220-7cd65f1799bd"
      },
      "source": [
        "query_doc_dict"
      ],
      "execution_count": null,
      "outputs": [
        {
          "output_type": "execute_result",
          "data": {
            "text/plain": [
              "{'A Famous Muslim Engineer': {0, 1, 2, 4, 5, 7, 8, 9},\n",
              " 'A theologian': {1},\n",
              " 'A woman with a kingdom': {4, 7, 9},\n",
              " 'Ancient Spain': {2, 3, 4, 5, 8, 9},\n",
              " 'How were the prayer times determined?': {1, 4, 6, 8},\n",
              " 'Poems and poets': {3, 6},\n",
              " 'What is the scientific work of islamic golden age? ': {0, 1, 2, 3, 4, 5, 8},\n",
              " 'Who were famous women?': {1, 4, 7, 9}}"
            ]
          },
          "metadata": {
            "tags": []
          },
          "execution_count": 96
        }
      ]
    },
    {
      "cell_type": "markdown",
      "metadata": {
        "id": "vxIRfOnCD742"
      },
      "source": [
        "#**Q&A:**\n",
        "\n",
        "1.   **which query returned in exactly one document?**\n",
        "\n",
        "\n",
        "\n",
        "*   'A theologian'\n",
        "\n",
        "2. **which query returned almost all the documents?**\n",
        "* 'A Famous Muslim Engineer'\n",
        "* 'What is the scientific work of islamic golden age? '\n",
        "\n",
        "3. **which queries returned around 80% relevant results(more than one)?**\n",
        "* 'A Famous Muslim Engineer'\n",
        "\n",
        "4. **which queries returned somehow irrelevant results?**\n",
        "*  'A theologian'\n",
        "\n",
        "5. **why do you think some queries were successful in returning relevant results and others are not?**\n",
        "* Queries that has a specific relivant word is more likely to reach its sprecific relevant document. The main inefficiencies behind that kind of algorithm in graping the most relivant document can be summarized in two points :\n",
        " \n",
        "\n",
        "    1.   Firstly ,that the algorithm treat all the words equally in contribution of the relevant docs\n",
        "    2.   Secondly , that some words are most frequent much more than others which give us a redundancy of docs that may be totally irrelevant.\n",
        "\n",
        "Here where TF-IDF algorithm come through to solve these two problems, by giving the least frequent word more weight in contributing in the returned docs\n",
        "\n",
        "\n",
        "6. **if you read any of the documents which character was totally,new for you,what new information did you get?**\n",
        "* 1.txt , it was about Maryam al Astrulabi. I knew the device , but i didn't know nor expect to be a woman who invented it.\n",
        "\n"
      ]
    },
    {
      "cell_type": "code",
      "metadata": {
        "id": "q5VbYcEnJbTi"
      },
      "source": [
        ""
      ],
      "execution_count": null,
      "outputs": []
    }
  ]
}